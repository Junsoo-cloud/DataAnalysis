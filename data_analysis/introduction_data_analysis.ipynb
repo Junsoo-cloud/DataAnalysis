{
 "cells": [
  {
   "cell_type": "markdown",
   "id": "d4a9add9",
   "metadata": {},
   "source": [
    "## Introduction to data analysis"
   ]
  },
  {
   "cell_type": "markdown",
   "id": "f855d32b",
   "metadata": {},
   "source": [
    "- 데이터의 홍수 속에서 데이터로부터 **의미있는 통찰**을 얻기 위해서 데이터를 **수집, 정제, 정리, 요약, 분석, 의사결정**을 하는 학문인 **통계학**(Statistics)의 기초지식 습득 필요"
   ]
  },
  {
   "cell_type": "markdown",
   "id": "dd536272",
   "metadata": {},
   "source": [
    "## Process of DataAnalysis\n",
    "\n",
    "- 문제 정의(problem definition)\n",
    "- 데이터 정의(data definition)\n",
    "- 데이터 취득(data acquisition)\n",
    "- 데이터 가공(data processing)\n",
    "- 탐색적 분석과 데이터 시각화(exploratory data analysis, data visualization)\n",
    "- 모형화(modeling)\n",
    "- 분석 결과 정리(reporting)"
   ]
  },
  {
   "cell_type": "markdown",
   "id": "be3cce89",
   "metadata": {},
   "source": [
    "## BUT\n",
    "\n",
    "- 현실에서는 이 과정들이 순서대로 진행되지 못하고 중간에 다시 **이전 단계로 돌아가야 하는 경우**들이 생김\n",
    "    - (예) 데이터 수집에서 문제가 생기면 필요한 데이터 또는 문제를 수정해야 할 수 있음"
   ]
  },
  {
   "cell_type": "markdown",
   "id": "cae3c4e5",
   "metadata": {},
   "source": [
    "## Composition of Data\n",
    " variable(attribute, feature) : horizontal / observation : vertical\n",
    "\n",
    "Data size is determined by **numbers of variable observation**"
   ]
  },
  {
   "cell_type": "markdown",
   "id": "6d3f8885",
   "metadata": {},
   "source": [
    "## Type of Variables\n",
    "\n",
    "**1. categorical variable** : present specific categories \n",
    "\n",
    "        1-1 Order exist case : ex) gender, race, blood type ..\n",
    "        1-2 Order no exist case : ex) grade, social economic status ..\n",
    "        \n",
    "**2. continuous variable** : present amount or size. ex) GDP, rate ...\n",
    "\n",
    "**Generally, categorical and continuous variable are mixed in data !!**"
   ]
  },
  {
   "cell_type": "markdown",
   "id": "7f2d45a6",
   "metadata": {},
   "source": [
    "## Repersentive static analysis method which depends on variable type\n",
    "\n",
    "**1. Continuous variable**\n",
    "\n",
    "    1-1 T-test\n",
    "**2. Categorical variable**\n",
    "\n",
    "    2-1 estimate dependency\n",
    "    \n",
    "**3. Mixed**\n",
    "    3-1 ANOVA : estimate whether there is a difference of mean of continuous variable depending on categorical variable\n",
    "    3-2 Regression : \n",
    "    3-3 Logistic Regression\n",
    "    "
   ]
  }
 ],
 "metadata": {
  "kernelspec": {
   "display_name": "Python 3",
   "language": "python",
   "name": "python3"
  },
  "language_info": {
   "codemirror_mode": {
    "name": "ipython",
    "version": 3
   },
   "file_extension": ".py",
   "mimetype": "text/x-python",
   "name": "python",
   "nbconvert_exporter": "python",
   "pygments_lexer": "ipython3",
   "version": "3.10.11"
  }
 },
 "nbformat": 4,
 "nbformat_minor": 5
}
