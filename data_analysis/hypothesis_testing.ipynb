{
 "cells": [
  {
   "cell_type": "markdown",
   "metadata": {},
   "source": [
    "# Hypothesis Testing\n",
    "\n",
    "Hypothesis testing is a statistical method used to make inferences or draw conclusions about a population based on a sample of data. It involves testing an assumption (hypothesis) about a population parameter.\n",
    "\n",
    "---\n",
    "\n",
    "## Null Hypothesis ($H_0$)\n",
    "\n",
    "- **Definition:**\n",
    "  - The null hypothesis is a statement that there is no effect or no difference in the population.\n",
    "  - It represents the status quo or a baseline assumption that is tested for possible rejection.\n",
    "\n",
    "  Important thing is , **no effect** in the population !!!\n",
    "\n",
    "- **Example:**\n",
    "  - ($H_0: \\mu = \\mu_0$) (The population mean is equal to a specified value) ($\\mu_0$).\n",
    "\n",
    "---\n",
    "\n",
    "## Alternative Hypothesis ($H_a$) or ($H_1$)\n",
    "\n",
    "- **Definition:**\n",
    "  - The alternative hypothesis is a statement that there is an effect or a difference in the population.\n",
    "  - It represents the hypothesis that the researcher aims to support.\n",
    "\n",
    "Important thing is , **effect** in the population !!!\n",
    "\n",
    "- **Example:**\n",
    "  - ($H_a: \\mu \\neq \\mu_0$) (The population mean is not equal to a specified value) ($\\mu_0$).\n",
    "\n",
    "---\n",
    "\n",
    "## T-Test\n",
    "\n",
    "The T-test is a statistical test used to compare the means of two groups. It helps determine whether there is a significant difference between the means.\n",
    "\n",
    "- the important thing is determine significant difference !!\n",
    "\n",
    "**Paired T-Test:**\n",
    "   - Compares the means of two **related groups** (e.g., measurements before and after treatment).\n",
    "   - **Formula:**\n",
    "     $$\n",
    "     t = \\frac{\\bar{d}}{\\frac{s_d}{\\sqrt{n}}}\n",
    "     $$\n",
    "     - ($\\bar{d}$): Mean of the differences between paired observations.\n",
    "     - ($s_d$): Standard deviation of the differences.\n",
    "     - ($n$): Number of pairs.\n",
    "\n",
    "**Two-Sample Independent T-Test:**\n",
    "   - Compares the means of two **independent groups.**\n",
    "   - **Formula:**\n",
    "     $$\n",
    "     t = \\frac{\\bar{X}_1 - \\bar{X}_2}{\\sqrt{\\frac{s_1^2}{n_1} + \\frac{s_2^2}{n_2}}}\n",
    "     $$\n",
    "     - ($\\bar{X}_1, \\bar{X}_2$): Sample means of the two groups.\n",
    "     - ($s_1^2, s_2^2$): Sample variances of the two groups.\n",
    "     - ($n_1, n_2$): Sample sizes of the two groups.\n",
    "\n",
    "---\n",
    "\n",
    "## P-Value\n",
    "\n",
    "- **Definition:**\n",
    "  - The p-value is the probability of obtaining a test statistic at least as extreme as the one observed, assuming the null hypothesis is true.\n",
    "  - It quantifies the evidence against the null hypothesis.\n",
    "\n",
    "- **Interpretation:**\n",
    "  - A small p-value $\\leq \\alpha$ indicates strong evidence against the null hypothesis, leading to its rejection.(in rejection, $H_0$ reject, $H_1$ adopt)\n",
    "  - A large p-value $>\\alpha$ suggests insufficient evidence to reject the null hypothesis.(not in rejection, can't reject $H_1$)\n",
    "\n",
    "- **Significance Level $\\alpha$:**\n",
    "  - Common choices for $\\alpha$ are 0.05."
   ]
  },
  {
   "cell_type": "code",
   "execution_count": 3,
   "metadata": {},
   "outputs": [],
   "source": [
    "# paired T-test\n",
    "before = [130, 133, 132, 138, 140, 128, 140, 132, 126, 130, 125, 140]\n",
    "after = [120, 130, 121, 107, 132, 125, 141, 133, 118, 133, 111, 131]"
   ]
  },
  {
   "cell_type": "code",
   "execution_count": 4,
   "metadata": {},
   "outputs": [],
   "source": [
    "import pandas as pd\n",
    "dat = pd.DataFrame({'before' : before, 'after' : after})"
   ]
  },
  {
   "cell_type": "code",
   "execution_count": 5,
   "metadata": {},
   "outputs": [
    {
     "data": {
      "text/plain": [
       "before    132.833333\n",
       "after     125.166667\n",
       "dtype: float64"
      ]
     },
     "execution_count": 5,
     "metadata": {},
     "output_type": "execute_result"
    }
   ],
   "source": [
    "dat.mean()"
   ]
  },
  {
   "cell_type": "code",
   "execution_count": 6,
   "metadata": {},
   "outputs": [
    {
     "data": {
      "image/png": "[encoded data removed]",
      "text/plain": [
       "<Figure size 500x300 with 1 Axes>"
      ]
     },
     "metadata": {},
     "output_type": "display_data"
    }
   ],
   "source": [
    "import matplotlib.pyplot as plt\n",
    "import seaborn as sns\n",
    "plt.rcParams['figure.figsize'] = (5,3)\n",
    "\n",
    "sns.boxplot(data=dat, showmeans=True)\n",
    "plt.show()\n",
    "\n",
    "# in the boxplot, we can see quite different mean between before and after.\n",
    "# now test this.(significantly difference?)"
   ]
  },
  {
   "cell_type": "code",
   "execution_count": 9,
   "metadata": {},
   "outputs": [
    {
     "data": {
      "text/plain": [
       "TtestResult(statistic=2.9188637754073192, pvalue=0.013965838615562465, df=11)"
      ]
     },
     "execution_count": 9,
     "metadata": {},
     "output_type": "execute_result"
    }
   ],
   "source": [
    "# paired T-test\n",
    "from scipy import stats\n",
    "\n",
    "result = stats.ttest_rel(dat.before, dat.after) # Two-tailed test(default value)\n",
    "result"
   ]
  },
  {
   "cell_type": "markdown",
   "metadata": {},
   "source": [
    "result: p-value(=0.014) < $\\alpha$ (0.05). so $H_0$ Reject. <br>\n",
    "->mean of before and after is **(statistically significant)** different !!"
   ]
  },
  {
   "cell_type": "code",
   "execution_count": 8,
   "metadata": {},
   "outputs": [
    {
     "data": {
      "text/html": [
       "<div>\n",
       "<style scoped>\n",
       "    .dataframe tbody tr th:only-of-type {\n",
       "        vertical-align: middle;\n",
       "    }\n",
       "\n",
       "    .dataframe tbody tr th {\n",
       "        vertical-align: top;\n",
       "    }\n",
       "\n",
       "    .dataframe thead th {\n",
       "        text-align: right;\n",
       "    }\n",
       "</style>\n",
       "<table border=\"1\" class=\"dataframe\">\n",
       "  <thead>\n",
       "    <tr style=\"text-align: right;\">\n",
       "      <th></th>\n",
       "      <th>total_bill</th>\n",
       "      <th>tip</th>\n",
       "      <th>sex</th>\n",
       "      <th>smoker</th>\n",
       "      <th>day</th>\n",
       "      <th>time</th>\n",
       "      <th>size</th>\n",
       "    </tr>\n",
       "  </thead>\n",
       "  <tbody>\n",
       "    <tr>\n",
       "      <th>0</th>\n",
       "      <td>16.99</td>\n",
       "      <td>1.01</td>\n",
       "      <td>Female</td>\n",
       "      <td>No</td>\n",
       "      <td>Sun</td>\n",
       "      <td>Dinner</td>\n",
       "      <td>2</td>\n",
       "    </tr>\n",
       "    <tr>\n",
       "      <th>1</th>\n",
       "      <td>10.34</td>\n",
       "      <td>1.66</td>\n",
       "      <td>Male</td>\n",
       "      <td>No</td>\n",
       "      <td>Sun</td>\n",
       "      <td>Dinner</td>\n",
       "      <td>3</td>\n",
       "    </tr>\n",
       "    <tr>\n",
       "      <th>2</th>\n",
       "      <td>21.01</td>\n",
       "      <td>3.50</td>\n",
       "      <td>Male</td>\n",
       "      <td>No</td>\n",
       "      <td>Sun</td>\n",
       "      <td>Dinner</td>\n",
       "      <td>3</td>\n",
       "    </tr>\n",
       "    <tr>\n",
       "      <th>3</th>\n",
       "      <td>23.68</td>\n",
       "      <td>3.31</td>\n",
       "      <td>Male</td>\n",
       "      <td>No</td>\n",
       "      <td>Sun</td>\n",
       "      <td>Dinner</td>\n",
       "      <td>2</td>\n",
       "    </tr>\n",
       "    <tr>\n",
       "      <th>4</th>\n",
       "      <td>24.59</td>\n",
       "      <td>3.61</td>\n",
       "      <td>Female</td>\n",
       "      <td>No</td>\n",
       "      <td>Sun</td>\n",
       "      <td>Dinner</td>\n",
       "      <td>4</td>\n",
       "    </tr>\n",
       "  </tbody>\n",
       "</table>\n",
       "</div>"
      ],
      "text/plain": [
       "   total_bill   tip     sex smoker  day    time  size\n",
       "0       16.99  1.01  Female     No  Sun  Dinner     2\n",
       "1       10.34  1.66    Male     No  Sun  Dinner     3\n",
       "2       21.01  3.50    Male     No  Sun  Dinner     3\n",
       "3       23.68  3.31    Male     No  Sun  Dinner     2\n",
       "4       24.59  3.61  Female     No  Sun  Dinner     4"
      ]
     },
     "execution_count": 8,
     "metadata": {},
     "output_type": "execute_result"
    }
   ],
   "source": [
    "tips = sns.load_dataset('tips')\n",
    "tips.head()"
   ]
  },
  {
   "cell_type": "code",
   "execution_count": 11,
   "metadata": {},
   "outputs": [],
   "source": [
    "# two-sample independence T-test"
   ]
  },
  {
   "cell_type": "code",
   "execution_count": 13,
   "metadata": {},
   "outputs": [
    {
     "name": "stdout",
     "output_type": "stream",
     "text": [
      "p-value : 0.0106\n"
     ]
    }
   ],
   "source": [
    "# [step 1] bartlett test\n",
    "dat_M = tips.loc[tips.sex == 'Male', ['tip', 'sex']]\n",
    "dat_F = tips.loc[tips.sex == 'Female', ['tip', 'sex']]\n",
    "dat_M\n",
    "s, p = stats.bartlett(dat_M.tip, dat_F.tip)\n",
    "print('p-value : %.4f' % p)\n",
    "\n",
    "# actually, bartlett test is not used in two dataset. But in Python, there's no alternative option."
   ]
  },
  {
   "cell_type": "code",
   "execution_count": 16,
   "metadata": {},
   "outputs": [
    {
     "name": "stdout",
     "output_type": "stream",
     "text": [
      "      tip     sex\n",
      "0    1.01  Female\n",
      "4    3.61  Female\n",
      "11   5.00  Female\n",
      "14   3.02  Female\n",
      "16   1.67  Female\n",
      "..    ...     ...\n",
      "226  2.00  Female\n",
      "229  2.88  Female\n",
      "238  4.67  Female\n",
      "240  2.00  Female\n",
      "243  3.00  Female\n",
      "\n",
      "[87 rows x 2 columns]\n",
      "t-test test statistic, p-value 1.490 and 0.138.\n"
     ]
    }
   ],
   "source": [
    "# [step 2] T-test\n",
    "print(dat_F)\n",
    "result = stats.ttest_ind(dat_M.tip, dat_F.tip, equal_var=False)\n",
    "print(\"t-test test statistic, p-value %.3f and %.3f.\" % result)"
   ]
  },
  {
   "cell_type": "markdown",
   "metadata": {},
   "source": [
    "- p-value(0.138) > $\\alpha$(0.05) so can't reject $H_0$ <br>\n",
    "- mean of tips depending on sex is **(statistically significant)** not different !!"
   ]
  },
  {
   "cell_type": "markdown",
   "metadata": {},
   "source": [
    "---"
   ]
  },
  {
   "cell_type": "markdown",
   "metadata": {},
   "source": [
    "# Analysis of Variance(ANOVA)"
   ]
  },
  {
   "cell_type": "markdown",
   "metadata": {},
   "source": [
    "### : Tests whether there is a difference between the means of three or more independent groups\n",
    "- Hypothesis : $H_{0} : \\mu_{1} = \\cdots = \\mu_{k}$ vs. $H_{1}$ : not $H_{0}$\n",
    "- Prerequisites : all group are independent each other, normal distribution, certain variance"
   ]
  },
  {
   "cell_type": "markdown",
   "metadata": {},
   "source": [
    "### Test Statistics using variance\n",
    "$$ F = \\frac{\\hat{\\sigma}^{2}_{between}}{\\hat{\\sigma}^{2}_{within}} $$"
   ]
  },
  {
   "cell_type": "code",
   "execution_count": 17,
   "metadata": {},
   "outputs": [],
   "source": [
    "import seaborn as sns\n",
    "import matplotlib.pyplot as plt \n",
    "plt.rcParams['figure.figsize'] = (5,3)\n",
    "\n",
    "tips = sns.load_dataset('tips')"
   ]
  },
  {
   "cell_type": "code",
   "execution_count": 18,
   "metadata": {},
   "outputs": [
    {
     "data": {
      "text/plain": [
       "day\n",
       "Thur    2.771452\n",
       "Fri     2.734737\n",
       "Sat     2.993103\n",
       "Sun     3.255132\n",
       "Name: tip, dtype: float64"
      ]
     },
     "execution_count": 18,
     "metadata": {},
     "output_type": "execute_result"
    }
   ],
   "source": [
    "tips.groupby('day', observed=False).tip.mean()"
   ]
  },
  {
   "cell_type": "code",
   "execution_count": 19,
   "metadata": {},
   "outputs": [
    {
     "name": "stdout",
     "output_type": "stream",
     "text": [
      "F statistic : 1.672 \n",
      "p-value : 0.1736\n"
     ]
    },
    {
     "data": {
      "text/plain": [
       "77     4.00\n",
       "78     3.00\n",
       "79     2.71\n",
       "80     3.00\n",
       "81     3.40\n",
       "       ... \n",
       "202    2.00\n",
       "203    2.50\n",
       "204    4.00\n",
       "205    3.23\n",
       "243    3.00\n",
       "Name: tip, Length: 62, dtype: float64"
      ]
     },
     "execution_count": 19,
     "metadata": {},
     "output_type": "execute_result"
    }
   ],
   "source": [
    "thur = tips.tip[tips.day == 'Thur']\n",
    "fri = tips.tip[tips.day == 'Fri']\n",
    "sat = tips.tip[tips.day == 'Sat']\n",
    "sun = tips.tip[tips.day == 'Sun']\n",
    "from scipy import stats\n",
    "result = stats.f_oneway(thur, fri, sat, sun)                 \n",
    "\n",
    "print('F statistic : %.3f \\np-value : %.4f' % (result))\n",
    "\n",
    "thur"
   ]
  },
  {
   "cell_type": "markdown",
   "metadata": {},
   "source": [
    "- p-value(0.1736) > $\\alpha$(0.05), so can't reject $H_0$ <br>\n",
    "- mean of tips depending on days **(statistically significant)** not different !!"
   ]
  },
  {
   "cell_type": "code",
   "execution_count": 21,
   "metadata": {},
   "outputs": [
    {
     "name": "stdout",
     "output_type": "stream",
     "text": [
      "             df      sum_sq   mean_sq         F    PR(>F)\n",
      "day         3.0    9.525873  3.175291  1.672355  0.173589\n",
      "Residual  240.0  455.686604  1.898694       NaN       NaN\n"
     ]
    }
   ],
   "source": [
    "# using statsmodel library ! \n",
    "from statsmodels.formula.api import ols\n",
    "from statsmodels.stats.anova import anova_lm\n",
    "\n",
    "model = ols('tip ~ day', tips).fit()\n",
    "print(anova_lm(model))"
   ]
  }
 ],
 "metadata": {
  "kernelspec": {
   "display_name": "base",
   "language": "python",
   "name": "python3"
  },
  "language_info": {
   "codemirror_mode": {
    "name": "ipython",
    "version": 3
   },
   "file_extension": ".py",
   "mimetype": "text/x-python",
   "name": "python",
   "nbconvert_exporter": "python",
   "pygments_lexer": "ipython3",
   "version": "3.12.4"
  }
 },
 "nbformat": 4,
 "nbformat_minor": 2
}
